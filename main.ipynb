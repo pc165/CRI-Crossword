{
 "cells": [
  {
   "cell_type": "code",
   "execution_count": 7,
   "metadata": {},
   "outputs": [],
   "source": [
    "from main import *"
   ]
  },
  {
   "cell_type": "code",
   "execution_count": 8,
   "metadata": {},
   "outputs": [],
   "source": [
    "words, crossword = readFile()\n",
    "horizontal, vertical = findWords(crossword)\n",
    "sharedLetterGraph = findSharedLetters(horizontal, vertical)"
   ]
  },
  {
   "cell_type": "code",
   "execution_count": 9,
   "metadata": {},
   "outputs": [
    {
     "output_type": "execute_result",
     "data": {
      "text/plain": "array([[0, 0, 0, 0, 0, 0],\n       [0, 1, 1, 0, 1, 0],\n       [0, 1, 0, 0, 0, 0],\n       [0, 1, 1, 0, 1, 0],\n       [1, 0, 0, 0, 0, 0],\n       [0, 0, 0, 0, 0, 1]])"
     },
     "metadata": {},
     "execution_count": 9
    }
   ],
   "source": [
    "crossword"
   ]
  },
  {
   "cell_type": "code",
   "execution_count": 10,
   "metadata": {},
   "outputs": [
    {
     "output_type": "execute_result",
     "data": {
      "text/plain": "array([[array([0, 0]), 6, ''],\n       [array([2, 2]), 4, ''],\n       [array([4, 1]), 5, ''],\n       [array([5, 0]), 5, '']], dtype=object)"
     },
     "metadata": {},
     "execution_count": 10
    }
   ],
   "source": [
    "horizontal"
   ]
  },
  {
   "cell_type": "code",
   "execution_count": 1,
   "metadata": {},
   "outputs": [
    {
     "output_type": "error",
     "ename": "NameError",
     "evalue": "name 'vertical' is not defined",
     "traceback": [
      "\u001b[0;31m---------------------------------------------------------------------------\u001b[0m",
      "\u001b[0;31mNameError\u001b[0m                                 Traceback (most recent call last)",
      "\u001b[0;32m<ipython-input-1-52862fbdd766>\u001b[0m in \u001b[0;36m<module>\u001b[0;34m\u001b[0m\n\u001b[0;32m----> 1\u001b[0;31m \u001b[0mvertical\u001b[0m\u001b[0;34m\u001b[0m\u001b[0;34m\u001b[0m\u001b[0m\n\u001b[0m",
      "\u001b[0;31mNameError\u001b[0m: name 'vertical' is not defined"
     ]
    }
   ],
   "source": [
    "vertical2"
   ]
  },
  {
   "cell_type": "code",
   "execution_count": 12,
   "metadata": {
    "tags": []
   },
   "outputs": [
    {
     "output_type": "stream",
     "name": "stdout",
     "text": "[[( 0,  0, '') (-1, -1, '') (-1, -1, '') ( 3,  0, '') (-1, -1, '')\n  ( 5,  0, '')]\n [(-1, -1, '') (-1, -1, '') (-1, -1, '') ( 1,  2, '') (-1, -1, '')\n  ( 3,  2, '')]\n [(-1, -1, '') ( 0,  0, '') ( 1,  0, '') ( 2,  4, '') ( 3,  0, '')\n  ( 4,  4, '')]\n [(-1, -1, '') ( 1,  1, '') ( 2,  1, '') ( 3,  5, '') ( 4,  1, '')\n  ( 5,  5, '')]]\n"
    }
   ],
   "source": [
    "sharedLetterGraph"
   ]
  },
  {
   "cell_type": "code",
   "execution_count": null,
   "metadata": {},
   "outputs": [],
   "source": []
  },
  {
   "source": [],
   "cell_type": "markdown",
   "metadata": {}
  }
 ],
 "metadata": {
  "kernelspec": {
   "display_name": "Python 3",
   "language": "python",
   "name": "python3"
  },
  "language_info": {
   "codemirror_mode": {
    "name": "ipython",
    "version": 3
   },
   "file_extension": ".py",
   "mimetype": "text/x-python",
   "name": "python",
   "nbconvert_exporter": "python",
   "pygments_lexer": "ipython3",
   "version": "3.8.5-final"
  }
 },
 "nbformat": 4,
 "nbformat_minor": 2
}